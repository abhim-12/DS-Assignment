{
 "cells": [
  {
   "cell_type": "markdown",
   "metadata": {},
   "source": [
    "<h1> <center>Data Science Assignment - Normal Distribution"
   ]
  },
  {
   "cell_type": "markdown",
   "metadata": {},
   "source": [
    "<h3>\n",
    "<div align=\"right\"> <b>Abhishek Mishra 1MS16IS003<br>\n",
    "                    Amogh Simha     1MS16IS007</b></div>"
   ]
  },
  {
   "cell_type": "markdown",
   "metadata": {},
   "source": [
    "A Normal Distribution is a continuous probability distribution. It is sometimes referred to as a <u>\"bell curve\"</u>. A normally distributed random variable might have a mean of 0 and a standard deviation of 1.\n",
    "\n",
    "<h2>Why is it Useful?</h2>\n",
    "Many real world phenomena conform to the normal distribution.<br> \n",
    "For example, people’s heights are famously normally distributed. This is applicable for a large sample of data. <br>\n",
    "Statistical inference and hypothesis testing relies heavily on the normal distribution. <br>\n",
    "Return of assets like stock are assumed to follow normal distrbution.<br>\n",
    "\n",
    "<img src=\"https://www.thoughtco.com/thmb/dvWwuVQFmI2GzshBjqrhQSA-7cA=/768x0/filters:no_upscale():max_bytes(150000):strip_icc():format(webp)/bellformula-56b749555f9b5829f8380dc8.jpg\" width=250 height=250>"
   ]
  },
  {
   "cell_type": "markdown",
   "metadata": {},
   "source": [
    "<h2> Method 1: Using Randomized Values"
   ]
  },
  {
   "cell_type": "markdown",
   "metadata": {},
   "source": [
    "<h2>Import Libraries"
   ]
  },
  {
   "cell_type": "markdown",
   "metadata": {},
   "source": [
    "Importing numpy to generate the numbers<br>\n",
    "matplotlib is used for plotting the data"
   ]
  },
  {
   "cell_type": "code",
   "execution_count": 5,
   "metadata": {},
   "outputs": [],
   "source": [
    "import numpy as np\n",
    "import matplotlib.pyplot as plt"
   ]
  },
  {
   "cell_type": "markdown",
   "metadata": {},
   "source": [
    "<h2> Create a class with methods to calculate and plot the data"
   ]
  },
  {
   "cell_type": "markdown",
   "metadata": {},
   "source": [
    "Python class that calculates the bell curve to be plotted using the normal distribution formula"
   ]
  },
  {
   "cell_type": "code",
   "execution_count": 6,
   "metadata": {},
   "outputs": [],
   "source": [
    "class normalize:\n",
    "    def __init__(self, x, y, z):\n",
    "        self.x = x\n",
    "        self.y = y\n",
    "        self.z = z\n",
    "        \n",
    "    def plot_norm_curve(self):\n",
    "        plt.plot(self.z, 1/(self.y * np.sqrt(2 * np.pi)) *\n",
    "            np.exp( - (self.z - self.x)**2 / (2 * self.y**2) ), linewidth=3, color='green')\n",
    "        plt.show()"
   ]
  },
  {
   "cell_type": "markdown",
   "metadata": {},
   "source": [
    "<h2> Set mean=0 and SD=1"
   ]
  },
  {
   "cell_type": "code",
   "execution_count": 7,
   "metadata": {},
   "outputs": [],
   "source": [
    "m = 0\n",
    "std = 1"
   ]
  },
  {
   "cell_type": "markdown",
   "metadata": {},
   "source": [
    "<h2> Create 10000 normalized, random values"
   ]
  },
  {
   "cell_type": "markdown",
   "metadata": {},
   "source": [
    "numpy function to generate randomized numbers that are normalized with the required mean and standard deviation"
   ]
  },
  {
   "cell_type": "code",
   "execution_count": 8,
   "metadata": {},
   "outputs": [],
   "source": [
    "random_val = np.random.normal(m, std, 10000)"
   ]
  },
  {
   "cell_type": "markdown",
   "metadata": {},
   "source": [
    "<h2>Plot and Visualize the data"
   ]
  },
  {
   "cell_type": "markdown",
   "metadata": {},
   "source": [
    "Histogram plot of the normalized data along with the bell curve"
   ]
  },
  {
   "cell_type": "code",
   "execution_count": 9,
   "metadata": {},
   "outputs": [
    {
     "data": {
      "image/png": "[encoded data removed]",
      "text/plain": [
       "<matplotlib.figure.Figure at 0xadd58dec>"
      ]
     },
     "metadata": {},
     "output_type": "display_data"
    }
   ],
   "source": [
    "a, b, c = plt.hist(random_val, 100, normed=True,color='lightblue')\n",
    "plt.xlabel(\"Distribution(Random Variable)\")\n",
    "plt.ylabel(\"Probability\")\n",
    "hist_plot = normalize(m, std, b)\n",
    "plot_of_curve = hist_plot.plot_norm_curve()"
   ]
  },
  {
   "cell_type": "markdown",
   "metadata": {},
   "source": [
    "<h2> Method 2: Using dataset"
   ]
  },
  {
   "cell_type": "markdown",
   "metadata": {},
   "source": [
    "Using a dataset containing weight & height data"
   ]
  },
  {
   "cell_type": "markdown",
   "metadata": {},
   "source": [
    "<h2>Import Libraries"
   ]
  },
  {
   "cell_type": "code",
   "execution_count": 10,
   "metadata": {},
   "outputs": [
    {
     "name": "stderr",
     "output_type": "stream",
     "text": [
      "/usr/local/lib/python3.4/dist-packages/pandas/core/computation/__init__.py:18: UserWarning: The installed version of numexpr 2.2.2 is not supported in pandas and will be not be used\n",
      "The minimum supported version is 2.4.6\n",
      "\n",
      "  ver=ver, min_ver=_MIN_NUMEXPR_VERSION), UserWarning)\n"
     ]
    }
   ],
   "source": [
    "import pandas as pd"
   ]
  },
  {
   "cell_type": "markdown",
   "metadata": {},
   "source": [
    "<h2>Import Dataset"
   ]
  },
  {
   "cell_type": "markdown",
   "metadata": {},
   "source": [
    "Dataset contains 10000 tuples read using pandas"
   ]
  },
  {
   "cell_type": "code",
   "execution_count": 11,
   "metadata": {},
   "outputs": [],
   "source": [
    "link = 'https://raw.githubusercontent.com/abhim-12/DS-Assignment/master/weight-height.csv'\n",
    "dataset = pd.read_csv(link)"
   ]
  },
  {
   "cell_type": "markdown",
   "metadata": {},
   "source": [
    "<h2>Dataset Configuration"
   ]
  },
  {
   "cell_type": "code",
   "execution_count": 12,
   "metadata": {},
   "outputs": [
    {
     "name": "stdout",
     "output_type": "stream",
     "text": [
      "      Height      Weight\n",
      "0  73.847017  241.893563\n",
      "1  68.781904  162.310473\n",
      "2  74.110105  212.740856\n",
      "3  71.730978  220.042470\n",
      "4  69.881796  206.349801\n",
      "Shape:\n",
      "(10000, 2)\n"
     ]
    }
   ],
   "source": [
    "data1 = dataset.drop([\"Gender\"],axis=1)\n",
    "print(data1.head())\n",
    "print(\"Shape:\")\n",
    "print(data1.shape)"
   ]
  },
  {
   "cell_type": "markdown",
   "metadata": {},
   "source": [
    "<h2>Normalize with StandardScaler"
   ]
  },
  {
   "cell_type": "markdown",
   "metadata": {},
   "source": [
    "StandardScaler is used to transform the dataset to have mean=0 and SD=1"
   ]
  },
  {
   "cell_type": "code",
   "execution_count": 13,
   "metadata": {},
   "outputs": [
    {
     "data": {
      "text/plain": [
       "array([[ 1.94406149,  2.50579697],\n",
       "       [ 0.62753668,  0.02710064],\n",
       "       [ 2.01244346,  1.59780623],\n",
       "       ..., \n",
       "       [-0.64968792, -1.02672965],\n",
       "       [ 0.69312469,  0.07512745],\n",
       "       [-1.14970831, -1.48850724]])"
      ]
     },
     "execution_count": 13,
     "metadata": {},
     "output_type": "execute_result"
    }
   ],
   "source": [
    "from sklearn.preprocessing import StandardScaler\n",
    "newdata = StandardScaler().fit_transform(data1)\n",
    "newdata"
   ]
  },
  {
   "cell_type": "markdown",
   "metadata": {},
   "source": [
    "<h2>Plot and Display"
   ]
  },
  {
   "cell_type": "markdown",
   "metadata": {},
   "source": [
    "Histogram plot of normalized data along with bell curve<br>\n",
    "Comparison with Non-normal weight plot"
   ]
  },
  {
   "cell_type": "code",
   "execution_count": 15,
   "metadata": {},
   "outputs": [
    {
     "data": {
      "image/png": "[encoded data removed]",
      "text/plain": [
       "<matplotlib.figure.Figure at 0xa9af8c2c>"
      ]
     },
     "metadata": {},
     "output_type": "display_data"
    }
   ],
   "source": [
    "h=newdata[:,0]\n",
    "w=newdata[:,1]\n",
    "\n",
    "w2,x2,z2=plt.hist(h,color=['lightblue'],bins=100,normed=True)\n",
    "plt.xlabel(\"Distribution(Height)\")\n",
    "plt.ylabel(\"Probability\")\n",
    "plt.title(\"Normal Distribution of Height\")\n",
    "hist_plot = normalize(0, 1, x2)\n",
    "plot_of_curve = hist_plot.plot_norm_curve()\n",
    "plt.show()\n",
    "\n",
    "#plt.hist(w,color=['green'],bins=100)\n",
    "#plt.xlabel(\"Weight\")\n",
    "#plt.ylabel(\"Probability\")\n",
    "#plt.title(\"Weight Distribution\")\n",
    "#plt.show()"
   ]
  }
 ],
 "metadata": {
  "kernelspec": {
   "display_name": "Python 3",
   "language": "python",
   "name": "python3"
  },
  "language_info": {
   "codemirror_mode": {
    "name": "ipython",
    "version": 3
   },
   "file_extension": ".py",
   "mimetype": "text/x-python",
   "name": "python",
   "nbconvert_exporter": "python",
   "pygments_lexer": "ipython3",
   "version": "3.4.0"
  }
 },
 "nbformat": 4,
 "nbformat_minor": 2
}
